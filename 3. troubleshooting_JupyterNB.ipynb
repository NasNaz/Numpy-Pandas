{
 "cells": [
  {
   "cell_type": "markdown",
   "id": "b1230fdf",
   "metadata": {},
   "source": [
    "<font style= 'font-family: Gerogia' color = 'black' size = 5>**Troubleshooting Jupyter Notebook**<f/> \n",
    "\n",
    "<font style= 'font-family: Gerogia' color = 'black' size = 4>Operating System: Windowns 10 <f/><br>\n",
    "<font style= 'font-family: sans-serif' color = 'black' size = 4><br>\n",
    "_If jupyter notebook does not open autometically to the default browser, consider doing one of the following or combination of the following commands._\n",
    "\n",
    "**1.** Launch **Anaconda Prompt**\n",
    "\n",
    "**2.** If a jupyter notebook configuration file was not created, please do the following:\n",
    "    \n",
    "    2.1 Type `jupyter notebook --generate-config` into Anaconda Prompt.\n",
    "    \n",
    "    2.2. After that type `notepad .jupyter/jupyter_notebook_config.py` into windows command prompt.\n",
    "    \n",
    "    2.3. Paste this `c.NotebookApp.use_redirect_file=False` line into the file, save it & close it.\n",
    "    \n",
    "    2.4. Now type `jupyter notbook` into anaconda promt to open jupyte notebook in you default browser \n",
    "\n",
    "**3.** Step 2 can completely be skipped if everytime while opening jupyter notebook using anaconda command prompt we type this `jupyter notebook --NotebookApp.use_redirect_file=False` command. Then Jupyter notebook will open automatically into the default browser. __But, step 2 is more like a permanent fix__\n",
    "\n",
    "\n",
    "<font style= 'font-family: sans-serif' color = 'black' size = 4><br>\n",
    "_If we don't want to open jupyter notebook in our default browser we can do the following:_\n",
    "\n",
    "**4.** Complete all the steps from **1 to 2.3**. **(save the file <font style = 'color:red'>but do not close the file)**</f> \n",
    "\n",
    "While the file  `jupyter_notebook_config.py` is still open, look for this `# c.NotebookApp.browser=''` line in the same file. This line should be between 150th - 155th line of the file. Copy the path of the browser you want to open jupyter notebook into & paste the path inside the **quotation mark*. Remove the hash `#`, save & close the file.\n",
    "    \n",
    "Example:\n",
    "`c.NotebookApp.browser='C:/Program Files(x86)/Google/Chrome/Application/chrome.exe %s'`\n",
    "\n",
    "**Note:** Change all the **backslash-> \\ to forward-slash-> /** after pasting the browser path."
   ]
  }
 ],
 "metadata": {
  "kernelspec": {
   "display_name": "Python 3 (ipykernel)",
   "language": "python",
   "name": "python3"
  },
  "language_info": {
   "codemirror_mode": {
    "name": "ipython",
    "version": 3
   },
   "file_extension": ".py",
   "mimetype": "text/x-python",
   "name": "python",
   "nbconvert_exporter": "python",
   "pygments_lexer": "ipython3",
   "version": "3.9.7"
  }
 },
 "nbformat": 4,
 "nbformat_minor": 5
}
