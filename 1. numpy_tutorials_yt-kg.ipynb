{
 "cells": [
  {
   "cell_type": "code",
   "execution_count": 1,
   "id": "59a09753",
   "metadata": {},
   "outputs": [],
   "source": [
    "import numpy as np"
   ]
  },
  {
   "cell_type": "markdown",
   "id": "14fb630a",
   "metadata": {},
   "source": [
    "# Part -1: Basics"
   ]
  },
  {
   "cell_type": "code",
   "execution_count": 2,
   "id": "76efeb93",
   "metadata": {},
   "outputs": [
    {
     "data": {
      "text/plain": [
       "array([1, 2, 3])"
      ]
     },
     "execution_count": 2,
     "metadata": {},
     "output_type": "execute_result"
    }
   ],
   "source": [
    "a = np.array([1,2,3])\n",
    "a"
   ]
  },
  {
   "cell_type": "code",
   "execution_count": 3,
   "id": "00f8bd02",
   "metadata": {},
   "outputs": [
    {
     "data": {
      "text/plain": [
       "array([[9.8, 8. , 7. ],\n",
       "       [6. , 5.5, 2.9]])"
      ]
     },
     "execution_count": 3,
     "metadata": {},
     "output_type": "execute_result"
    }
   ],
   "source": [
    "b = np.array([[9.8,8.0,7.0],\n",
    "             [6.0,5.5,2.9]])\n",
    "b"
   ]
  },
  {
   "cell_type": "markdown",
   "id": "53d11d9c",
   "metadata": {},
   "source": [
    "### Get Dimensions"
   ]
  },
  {
   "cell_type": "code",
   "execution_count": 4,
   "id": "7d8c6dea",
   "metadata": {},
   "outputs": [
    {
     "data": {
      "text/plain": [
       "1"
      ]
     },
     "execution_count": 4,
     "metadata": {},
     "output_type": "execute_result"
    }
   ],
   "source": [
    "a.ndim"
   ]
  },
  {
   "cell_type": "code",
   "execution_count": 5,
   "id": "9a13d4e8",
   "metadata": {},
   "outputs": [
    {
     "data": {
      "text/plain": [
       "2"
      ]
     },
     "execution_count": 5,
     "metadata": {},
     "output_type": "execute_result"
    }
   ],
   "source": [
    "b.ndim"
   ]
  },
  {
   "cell_type": "markdown",
   "id": "6cebd873",
   "metadata": {},
   "source": [
    "### Shape"
   ]
  },
  {
   "cell_type": "code",
   "execution_count": 6,
   "id": "7c5d1ecc",
   "metadata": {},
   "outputs": [
    {
     "data": {
      "text/plain": [
       "(3,)"
      ]
     },
     "execution_count": 6,
     "metadata": {},
     "output_type": "execute_result"
    }
   ],
   "source": [
    "a.shape"
   ]
  },
  {
   "cell_type": "code",
   "execution_count": 7,
   "id": "da0e2527",
   "metadata": {},
   "outputs": [
    {
     "data": {
      "text/plain": [
       "(2, 3)"
      ]
     },
     "execution_count": 7,
     "metadata": {},
     "output_type": "execute_result"
    }
   ],
   "source": [
    "b.shape"
   ]
  },
  {
   "cell_type": "markdown",
   "id": "c20217ca",
   "metadata": {},
   "source": [
    "### Data Type"
   ]
  },
  {
   "cell_type": "code",
   "execution_count": 8,
   "id": "53b62206",
   "metadata": {},
   "outputs": [
    {
     "data": {
      "text/plain": [
       "dtype('int32')"
      ]
     },
     "execution_count": 8,
     "metadata": {},
     "output_type": "execute_result"
    }
   ],
   "source": [
    "a.dtype"
   ]
  },
  {
   "cell_type": "code",
   "execution_count": 9,
   "id": "e222d553",
   "metadata": {},
   "outputs": [
    {
     "data": {
      "text/plain": [
       "dtype('float64')"
      ]
     },
     "execution_count": 9,
     "metadata": {},
     "output_type": "execute_result"
    }
   ],
   "source": [
    "b.dtype"
   ]
  },
  {
   "cell_type": "markdown",
   "id": "d77074e1",
   "metadata": {},
   "source": [
    "### If we want to specify the data type to reduce memory usage"
   ]
  },
  {
   "cell_type": "code",
   "execution_count": 10,
   "id": "51059994",
   "metadata": {},
   "outputs": [
    {
     "name": "stdout",
     "output_type": "stream",
     "text": [
      "[1 2 3]\n",
      "1\n",
      "int16\n"
     ]
    }
   ],
   "source": [
    "c = np.array([1,2,3], dtype = 'int16')\n",
    "print(c)\n",
    "print(c.ndim)\n",
    "print(c.dtype)"
   ]
  },
  {
   "cell_type": "markdown",
   "id": "91f044df",
   "metadata": {},
   "source": [
    "### To check how much each array is taking "
   ]
  },
  {
   "cell_type": "code",
   "execution_count": 11,
   "id": "7ac5b708",
   "metadata": {},
   "outputs": [
    {
     "name": "stdout",
     "output_type": "stream",
     "text": [
      "a = int32 -> 4\n",
      "b = float64-> 8\n",
      "c = int16-> 2\n"
     ]
    }
   ],
   "source": [
    "print('a = int32 ->', a.itemsize) # int32\n",
    "print('b = float64->', b.itemsize) # float64\n",
    "print('c = int16->', c.itemsize) # int16"
   ]
  },
  {
   "cell_type": "markdown",
   "id": "66211c94",
   "metadata": {},
   "source": [
    "### To get total number of element of an array"
   ]
  },
  {
   "cell_type": "code",
   "execution_count": 13,
   "id": "a871d5bd",
   "metadata": {},
   "outputs": [
    {
     "name": "stdout",
     "output_type": "stream",
     "text": [
      "a.size-> 3\n",
      "b.size-> 6\n",
      "c.size-> 3\n"
     ]
    }
   ],
   "source": [
    "print('a.size->',a.size)\n",
    "print('b.size->',b.size)\n",
    "print('c.size->',c.size)"
   ]
  },
  {
   "cell_type": "markdown",
   "id": "b8bf1dbc",
   "metadata": {},
   "source": [
    "### To get number of total memory is consumed by an array"
   ]
  },
  {
   "cell_type": "code",
   "execution_count": 14,
   "id": "b148c61d",
   "metadata": {},
   "outputs": [
    {
     "name": "stdout",
     "output_type": "stream",
     "text": [
      "a: 12\n",
      "a: 12\n",
      "b: 48\n",
      "b: 48\n",
      "c: 6\n",
      "c: 6\n"
     ]
    }
   ],
   "source": [
    "# size of the array * memory consumed by each element\n",
    "print('a:',a.size * a.itemsize )\n",
    "\n",
    "# OR,\n",
    "\n",
    "print('a:',a.nbytes)\n",
    "#------------------------------------------------------\n",
    "# size of the array * memory consumed by each element\n",
    "print('b:',b.size * b.itemsize )\n",
    "\n",
    "# OR,\n",
    "\n",
    "print('b:',b.nbytes)\n",
    "#------------------------------------------------------\n",
    "# size of the array * memory consumed by each element\n",
    "print('c:',c.size * c.itemsize )\n",
    "\n",
    "# OR,\n",
    "\n",
    "print('c:',c.nbytes)"
   ]
  },
  {
   "cell_type": "markdown",
   "id": "ef491935",
   "metadata": {},
   "source": [
    "# Part -2: Accessing/Changing specific elements, rows, columns, etc."
   ]
  },
  {
   "cell_type": "code",
   "execution_count": 15,
   "id": "80276ebc",
   "metadata": {},
   "outputs": [
    {
     "data": {
      "text/plain": [
       "array([[ 1,  2,  3,  4,  5,  6,  7],\n",
       "       [ 8,  9, 10, 11, 12, 13, 14]])"
      ]
     },
     "execution_count": 15,
     "metadata": {},
     "output_type": "execute_result"
    }
   ],
   "source": [
    "a = np.array([[1,2,3,4,5,6,7],[8,9,10,11,12,13,14]])\n",
    "a"
   ]
  },
  {
   "cell_type": "code",
   "execution_count": 17,
   "id": "910193b9",
   "metadata": {},
   "outputs": [
    {
     "data": {
      "text/plain": [
       "(2, 7)"
      ]
     },
     "execution_count": 17,
     "metadata": {},
     "output_type": "execute_result"
    }
   ],
   "source": [
    "# Shape\n",
    "a.shape\n",
    "#(number of rows, number of column)"
   ]
  },
  {
   "cell_type": "markdown",
   "id": "ce33859e",
   "metadata": {},
   "source": [
    "### To get a specific element 13: ndarray[row, column] "
   ]
  },
  {
   "cell_type": "code",
   "execution_count": 18,
   "id": "6fbe4d8b",
   "metadata": {},
   "outputs": [
    {
     "name": "stdout",
     "output_type": "stream",
     "text": [
      "13\n",
      "13\n"
     ]
    }
   ],
   "source": [
    "# To get a specific element 13: ndarray[row, column] \n",
    "print(a[1, 5])\n",
    "\n",
    "#OR, like python list negative indexing is also possible with NumPy\n",
    "print(a[1,-2])"
   ]
  },
  {
   "cell_type": "markdown",
   "id": "89a7aa00",
   "metadata": {},
   "source": [
    "### To get specific Row"
   ]
  },
  {
   "cell_type": "code",
   "execution_count": 19,
   "id": "fb9df579",
   "metadata": {},
   "outputs": [
    {
     "data": {
      "text/plain": [
       "array([1, 2, 3, 4, 5, 6, 7])"
      ]
     },
     "execution_count": 19,
     "metadata": {},
     "output_type": "execute_result"
    }
   ],
   "source": [
    "# Getting the first row. Like python list in Numpy indexing starts with 0\n",
    "a[0,:] # From row 0 select all the columns"
   ]
  },
  {
   "cell_type": "markdown",
   "id": "55461a62",
   "metadata": {},
   "source": [
    "### To get specific Column"
   ]
  },
  {
   "cell_type": "code",
   "execution_count": 20,
   "id": "be4983fe",
   "metadata": {},
   "outputs": [
    {
     "data": {
      "text/plain": [
       "array([ 3, 10])"
      ]
     },
     "execution_count": 20,
     "metadata": {},
     "output_type": "execute_result"
    }
   ],
   "source": [
    "# Getting the Third column. Like python list in Numpy indexing starts with 0\n",
    "a[:,2] # Select all the rows for Third column, that is index 2"
   ]
  },
  {
   "cell_type": "code",
   "execution_count": 21,
   "id": "bcb6f567",
   "metadata": {},
   "outputs": [
    {
     "data": {
      "text/plain": [
       "array([[ 1,  2,  3,  4,  5,  6,  7],\n",
       "       [ 8,  9, 10, 11, 12, 13, 14]])"
      ]
     },
     "execution_count": 21,
     "metadata": {},
     "output_type": "execute_result"
    }
   ],
   "source": [
    "a"
   ]
  },
  {
   "cell_type": "markdown",
   "id": "b8e7c128",
   "metadata": {},
   "source": [
    "### Showing Specific elements"
   ]
  },
  {
   "cell_type": "code",
   "execution_count": 22,
   "id": "b46ce55c",
   "metadata": {},
   "outputs": [
    {
     "data": {
      "text/plain": [
       "array([2, 4, 6])"
      ]
     },
     "execution_count": 22,
     "metadata": {},
     "output_type": "execute_result"
    }
   ],
   "source": [
    "# [row, start_index:end_index:step_size] | for: [2,4,6] we can do the following\n",
    "a[0,1:6:2] # This means from row 0 start showing the element at 1 till 6 with\n",
    "           # a step size of 2 | Can also use negative indexing: a[0 , 1:-1:2]"
   ]
  },
  {
   "cell_type": "markdown",
   "id": "e207df80",
   "metadata": {},
   "source": [
    "### Changing value of an element in an array"
   ]
  },
  {
   "cell_type": "code",
   "execution_count": 23,
   "id": "d2f0a6fe",
   "metadata": {},
   "outputs": [
    {
     "name": "stdout",
     "output_type": "stream",
     "text": [
      "Old value:[row=1, column=5]-> 13\n"
     ]
    }
   ],
   "source": [
    "print('Old value:[row=1, column=5]->',a[1,5])"
   ]
  },
  {
   "cell_type": "code",
   "execution_count": 24,
   "id": "7e845cb1",
   "metadata": {},
   "outputs": [
    {
     "name": "stdout",
     "output_type": "stream",
     "text": [
      "New value:[row=1, column=5]-> 99\n"
     ]
    }
   ],
   "source": [
    "# Changing value at postiton [row=1, column=5 ] that is 13 to 99\n",
    "a[1,5]= 99\n",
    "print('New value:[row=1, column=5]->',a[1,5])"
   ]
  },
  {
   "cell_type": "code",
   "execution_count": 25,
   "id": "3e0e33fb",
   "metadata": {},
   "outputs": [
    {
     "data": {
      "text/plain": [
       "array([[ 1,  2,  3,  4,  5,  6,  7],\n",
       "       [ 8,  9, 10, 11, 12, 99, 14]])"
      ]
     },
     "execution_count": 25,
     "metadata": {},
     "output_type": "execute_result"
    }
   ],
   "source": [
    "# It can be seen the value has be updated in the array\n",
    "a"
   ]
  },
  {
   "cell_type": "markdown",
   "id": "40d4dd5f",
   "metadata": {},
   "source": [
    "### To change more than one values"
   ]
  },
  {
   "cell_type": "code",
   "execution_count": 26,
   "id": "cd1f97b7",
   "metadata": {},
   "outputs": [],
   "source": [
    "#Changing the vlues of column 3 (index-2) to 100 for both the rows\n",
    "a[:, 2] = 100 "
   ]
  },
  {
   "cell_type": "code",
   "execution_count": 27,
   "id": "987c746e",
   "metadata": {},
   "outputs": [
    {
     "data": {
      "text/plain": [
       "array([[  1,   2, 100,   4,   5,   6,   7],\n",
       "       [  8,   9, 100,  11,  12,  99,  14]])"
      ]
     },
     "execution_count": 27,
     "metadata": {},
     "output_type": "execute_result"
    }
   ],
   "source": [
    "a"
   ]
  },
  {
   "cell_type": "code",
   "execution_count": 28,
   "id": "c2527403",
   "metadata": {},
   "outputs": [],
   "source": [
    "# If we want to have different values for different rows\n",
    "# We have to pass values accoring to the shape\n",
    "a[:, 2] = [500, 700] "
   ]
  },
  {
   "cell_type": "code",
   "execution_count": 29,
   "id": "f8994b45",
   "metadata": {},
   "outputs": [
    {
     "data": {
      "text/plain": [
       "array([[  1,   2, 500,   4,   5,   6,   7],\n",
       "       [  8,   9, 700,  11,  12,  99,  14]])"
      ]
     },
     "execution_count": 29,
     "metadata": {},
     "output_type": "execute_result"
    }
   ],
   "source": [
    "a"
   ]
  },
  {
   "cell_type": "markdown",
   "id": "61512986",
   "metadata": {},
   "source": [
    "### 3-Dimensional Array"
   ]
  },
  {
   "cell_type": "code",
   "execution_count": 30,
   "id": "afb1c6f3",
   "metadata": {},
   "outputs": [
    {
     "data": {
      "text/plain": [
       "array([[[1, 2],\n",
       "        [3, 4]],\n",
       "\n",
       "       [[5, 7],\n",
       "        [7, 8]]])"
      ]
     },
     "execution_count": 30,
     "metadata": {},
     "output_type": "execute_result"
    }
   ],
   "source": [
    "three_dim = np.array([[[1,2],[3,4]],[[5,7],[7,8]]])\n",
    "three_dim"
   ]
  },
  {
   "cell_type": "code",
   "execution_count": 31,
   "id": "14386cd9",
   "metadata": {},
   "outputs": [
    {
     "data": {
      "text/plain": [
       "array([[3, 4],\n",
       "       [7, 8]])"
      ]
     },
     "execution_count": 31,
     "metadata": {},
     "output_type": "execute_result"
    }
   ],
   "source": [
    "### To get a specific itme in a 3-D array\n",
    "### Work outside in way\n",
    "three_dim[0,1,1] # 4\n",
    "### Instead of numbers we can also use colon indexing as well\n",
    "three_dim[:,1,:]"
   ]
  },
  {
   "cell_type": "code",
   "execution_count": 32,
   "id": "275b95ba",
   "metadata": {},
   "outputs": [
    {
     "data": {
      "text/plain": [
       "array([[[ 1,  2],\n",
       "        [99, 99]],\n",
       "\n",
       "       [[ 5,  7],\n",
       "        [80, 80]]])"
      ]
     },
     "execution_count": 32,
     "metadata": {},
     "output_type": "execute_result"
    }
   ],
   "source": [
    "### Replacing a value in 3-D array\n",
    "### While replacing we must have the same shape or dimension \n",
    "### as the original array\n",
    "three_dim[:,1,:] = [[99,99], [80,80]]\n",
    "three_dim"
   ]
  },
  {
   "cell_type": "code",
   "execution_count": 33,
   "id": "f48dae4e",
   "metadata": {},
   "outputs": [
    {
     "ename": "ValueError",
     "evalue": "setting an array element with a sequence. The requested array has an inhomogeneous shape after 1 dimensions. The detected shape was (2,) + inhomogeneous part.",
     "output_type": "error",
     "traceback": [
      "\u001b[1;31m---------------------------------------------------------------------------\u001b[0m",
      "\u001b[1;31mValueError\u001b[0m                                Traceback (most recent call last)",
      "\u001b[1;32m~\\AppData\\Local\\Temp/ipykernel_18084/3460607875.py\u001b[0m in \u001b[0;36m<module>\u001b[1;34m\u001b[0m\n\u001b[0;32m      1\u001b[0m \u001b[1;31m# If the array shape or dimension is not matched then we get the ValueError\u001b[0m\u001b[1;33m\u001b[0m\u001b[1;33m\u001b[0m\u001b[0m\n\u001b[1;32m----> 2\u001b[1;33m \u001b[0mthree_dim\u001b[0m\u001b[1;33m[\u001b[0m\u001b[1;33m:\u001b[0m\u001b[1;33m,\u001b[0m\u001b[1;36m1\u001b[0m\u001b[1;33m,\u001b[0m\u001b[1;33m:\u001b[0m\u001b[1;33m]\u001b[0m \u001b[1;33m=\u001b[0m \u001b[1;33m[\u001b[0m\u001b[1;33m[\u001b[0m\u001b[1;36m99\u001b[0m\u001b[1;33m,\u001b[0m\u001b[1;36m99\u001b[0m\u001b[1;33m,\u001b[0m\u001b[1;36m99\u001b[0m\u001b[1;33m]\u001b[0m\u001b[1;33m,\u001b[0m \u001b[1;33m[\u001b[0m\u001b[1;36m80\u001b[0m\u001b[1;33m,\u001b[0m\u001b[1;36m80\u001b[0m\u001b[1;33m]\u001b[0m\u001b[1;33m]\u001b[0m\u001b[1;33m\u001b[0m\u001b[1;33m\u001b[0m\u001b[0m\n\u001b[0m\u001b[0;32m      3\u001b[0m \u001b[0mthree_dim\u001b[0m\u001b[1;33m\u001b[0m\u001b[1;33m\u001b[0m\u001b[0m\n",
      "\u001b[1;31mValueError\u001b[0m: setting an array element with a sequence. The requested array has an inhomogeneous shape after 1 dimensions. The detected shape was (2,) + inhomogeneous part."
     ]
    }
   ],
   "source": [
    "# If the array shape or dimension is not matched then we get the ValueError\n",
    "three_dim[:,1,:] = [[99,99,99], [80,80]]\n",
    "three_dim"
   ]
  },
  {
   "cell_type": "markdown",
   "id": "28401f04",
   "metadata": {},
   "source": [
    "# Part-3: Initializing Different Types of Arrays"
   ]
  },
  {
   "cell_type": "markdown",
   "id": "786f2897",
   "metadata": {},
   "source": [
    "### All zero Matrix\n",
    "[Numpy Zeros Function Documentation](https://numpy.org/doc/stable/reference/generated/numpy.zeros.html)"
   ]
  },
  {
   "cell_type": "code",
   "execution_count": 36,
   "id": "48338014",
   "metadata": {},
   "outputs": [
    {
     "data": {
      "text/plain": [
       "array([0., 0., 0., 0., 0.])"
      ]
     },
     "execution_count": 36,
     "metadata": {},
     "output_type": "execute_result"
    }
   ],
   "source": [
    "np.zeros(5) # 1-D array fill with 0s"
   ]
  },
  {
   "cell_type": "code",
   "execution_count": 37,
   "id": "987f060b",
   "metadata": {},
   "outputs": [
    {
     "data": {
      "text/plain": [
       "array([[0., 0., 0., 0., 0.],\n",
       "       [0., 0., 0., 0., 0.]])"
      ]
     },
     "execution_count": 37,
     "metadata": {},
     "output_type": "execute_result"
    }
   ],
   "source": [
    "np.zeros((2,5)) # (row, column) # 2-D"
   ]
  },
  {
   "cell_type": "code",
   "execution_count": 38,
   "id": "47f3df1d",
   "metadata": {},
   "outputs": [],
   "source": [
    "#np.zeros((2,3,3)) # 3-D"
   ]
  },
  {
   "cell_type": "code",
   "execution_count": 39,
   "id": "85e10b62",
   "metadata": {},
   "outputs": [],
   "source": [
    "#np.zeros((2,3,3, 2)) # 4-D"
   ]
  },
  {
   "cell_type": "markdown",
   "id": "832a50ac",
   "metadata": {},
   "source": [
    "### All Ones Matrix\n",
    "[Numpy Ones Function Documentation](https://numpy.org/doc/stable/reference/generated/numpy.ones.html)"
   ]
  },
  {
   "cell_type": "code",
   "execution_count": 40,
   "id": "8ff79f70",
   "metadata": {},
   "outputs": [
    {
     "data": {
      "text/plain": [
       "array([[1., 1., 1., 1., 1.],\n",
       "       [1., 1., 1., 1., 1.]])"
      ]
     },
     "execution_count": 40,
     "metadata": {},
     "output_type": "execute_result"
    }
   ],
   "source": [
    "# In Numpy ones matrix'Data Types' can be set\n",
    "np.ones((2,5))"
   ]
  },
  {
   "cell_type": "code",
   "execution_count": 41,
   "id": "3a3c55cb",
   "metadata": {},
   "outputs": [
    {
     "data": {
      "text/plain": [
       "array([[1, 1, 1, 1, 1],\n",
       "       [1, 1, 1, 1, 1]])"
      ]
     },
     "execution_count": 41,
     "metadata": {},
     "output_type": "execute_result"
    }
   ],
   "source": [
    "np.ones((2,5), dtype = 'int32')"
   ]
  },
  {
   "cell_type": "markdown",
   "id": "2f344504",
   "metadata": {},
   "source": [
    "### Any other numbers other than ones and zeros\n",
    "[Numpy Full](https://numpy.org/doc/stable/reference/generated/numpy.full.html)"
   ]
  },
  {
   "cell_type": "code",
   "execution_count": 42,
   "id": "efa6dfd3",
   "metadata": {},
   "outputs": [
    {
     "data": {
      "text/plain": [
       "array([[100, 100],\n",
       "       [100, 100]])"
      ]
     },
     "execution_count": 42,
     "metadata": {},
     "output_type": "execute_result"
    }
   ],
   "source": [
    "#np.full((takes the shape of row and column), here takes the value)\n",
    "np.full((2,2),100) # np.full((2 rows, 2 columns), with all 100)\n",
    "                # dtype can also be added here # np.full((2,2),100, dtypes = 'float32')"
   ]
  },
  {
   "cell_type": "markdown",
   "id": "a1b153c8",
   "metadata": {},
   "source": [
    "### If we want to build a array like an array  is already built\n",
    "[Numpy Full Like](https://numpy.org/doc/stable/reference/generated/numpy.full_like.html)"
   ]
  },
  {
   "cell_type": "code",
   "execution_count": 43,
   "id": "b9d53777",
   "metadata": {},
   "outputs": [
    {
     "data": {
      "text/plain": [
       "array([[ 1,  2,  3,  4,  5,  6,  7],\n",
       "       [ 8,  9, 10, 11, 12, 13, 14]])"
      ]
     },
     "execution_count": 43,
     "metadata": {},
     "output_type": "execute_result"
    }
   ],
   "source": [
    "# Example array that already exists\n",
    "m = np.array([[1,2,3,4,5,6,7],[8,9,10,11,12,13,14]])\n",
    "m"
   ]
  },
  {
   "cell_type": "code",
   "execution_count": 44,
   "id": "6401334a",
   "metadata": {},
   "outputs": [
    {
     "data": {
      "text/plain": [
       "array([[4, 4, 4, 4, 4, 4, 4],\n",
       "       [4, 4, 4, 4, 4, 4, 4]])"
      ]
     },
     "execution_count": 44,
     "metadata": {},
     "output_type": "execute_result"
    }
   ],
   "source": [
    "# Make a 2-D array and fill it with 4s\n",
    "np.full_like((m),4)"
   ]
  },
  {
   "cell_type": "code",
   "execution_count": 46,
   "id": "5f9a288f",
   "metadata": {
    "scrolled": true
   },
   "outputs": [
    {
     "data": {
      "text/plain": [
       "array([[4., 4., 4., 4., 4., 4., 4.],\n",
       "       [4., 4., 4., 4., 4., 4., 4.]])"
      ]
     },
     "execution_count": 46,
     "metadata": {},
     "output_type": "execute_result"
    }
   ],
   "source": [
    "# Make an array as the shape of array m, and fill the array with 4 \n",
    "#and data type = 'float64'\n",
    "np.full((m.shape),4,dtype = 'float64')"
   ]
  },
  {
   "cell_type": "markdown",
   "id": "ded2e760",
   "metadata": {},
   "source": [
    "### Array of RANDOM numbers"
   ]
  },
  {
   "cell_type": "markdown",
   "id": "c649ac5f",
   "metadata": {},
   "source": [
    "#### Random Decimal Numbers"
   ]
  },
  {
   "cell_type": "code",
   "execution_count": 47,
   "id": "55ecabcc",
   "metadata": {},
   "outputs": [
    {
     "data": {
      "text/plain": [
       "array([[0.42354626, 0.90561559],\n",
       "       [0.44179641, 0.86186861],\n",
       "       [0.51349342, 0.01493121],\n",
       "       [0.77765179, 0.25642885]])"
      ]
     },
     "execution_count": 47,
     "metadata": {},
     "output_type": "execute_result"
    }
   ],
   "source": [
    "#Decimal Numbers - (row, column)\n",
    "np.random.rand(4,2)"
   ]
  },
  {
   "cell_type": "code",
   "execution_count": 48,
   "id": "fda8ba4b",
   "metadata": {},
   "outputs": [
    {
     "data": {
      "text/plain": [
       "array([[0.14982456, 0.42000314, 0.87056647, 0.68942065, 0.11587459,\n",
       "        0.80564255, 0.01269647],\n",
       "       [0.74178795, 0.26566339, 0.36113987, 0.17654204, 0.26436474,\n",
       "        0.15539011, 0.8102206 ]])"
      ]
     },
     "execution_count": 48,
     "metadata": {},
     "output_type": "execute_result"
    }
   ],
   "source": [
    "# To pass a shape of a pre-existing array\n",
    "np.random.random_sample(m.shape)"
   ]
  },
  {
   "cell_type": "markdown",
   "id": "b588ec8a",
   "metadata": {},
   "source": [
    "#### Random Integer Numbers"
   ]
  },
  {
   "cell_type": "code",
   "execution_count": 49,
   "id": "aa307ffb",
   "metadata": {},
   "outputs": [
    {
     "data": {
      "text/plain": [
       "array([[ 4,  0, -1],\n",
       "       [-1, -3,  3],\n",
       "       [ 3, -5,  5]])"
      ]
     },
     "execution_count": 49,
     "metadata": {},
     "output_type": "execute_result"
    }
   ],
   "source": [
    "#np.random.randint(stating number,ending number, array size=(row,column)) \n",
    "np.random.randint(-5,7, size=(3,3)) # A 3*3 Matrix"
   ]
  },
  {
   "cell_type": "markdown",
   "id": "6087c364",
   "metadata": {},
   "source": [
    "#### Identity Matrix"
   ]
  },
  {
   "cell_type": "code",
   "execution_count": 50,
   "id": "0a3d558f",
   "metadata": {},
   "outputs": [
    {
     "data": {
      "text/plain": [
       "array([[1., 0., 0.],\n",
       "       [0., 1., 0.],\n",
       "       [0., 0., 1.]])"
      ]
     },
     "execution_count": 50,
     "metadata": {},
     "output_type": "execute_result"
    }
   ],
   "source": [
    "np.identity(3)"
   ]
  },
  {
   "cell_type": "markdown",
   "id": "15a10f04",
   "metadata": {},
   "source": [
    "#### Repeat an array"
   ]
  },
  {
   "cell_type": "code",
   "execution_count": 51,
   "id": "3bbd2998",
   "metadata": {},
   "outputs": [
    {
     "name": "stdout",
     "output_type": "stream",
     "text": [
      "[[1 2 3]\n",
      " [1 2 3]\n",
      " [1 2 3]]\n"
     ]
    }
   ],
   "source": [
    "array = np.array([[1,2,3]])\n",
    "# np.repeat\n",
    "#(array that we want to repeat, how many times we want to repeat, which axis)\n",
    "rep = np.repeat(array, 3, axis = 0) \n",
    "print(rep)"
   ]
  },
  {
   "attachments": {
    "image.png": {
     "image/png": "[encoded data removed]"
    }
   },
   "cell_type": "markdown",
   "id": "ed977dc0",
   "metadata": {},
   "source": [
    "# Exercise:\n",
    "\n",
    "![image.png](attachment:image.png)"
   ]
  },
  {
   "cell_type": "markdown",
   "id": "a142a594",
   "metadata": {},
   "source": [
    "### Solution:"
   ]
  },
  {
   "cell_type": "code",
   "execution_count": 65,
   "id": "78de0e62",
   "metadata": {
    "scrolled": false
   },
   "outputs": [
    {
     "data": {
      "text/plain": [
       "array([[1, 1, 1, 1, 1],\n",
       "       [1, 1, 1, 1, 1],\n",
       "       [1, 1, 1, 1, 1],\n",
       "       [1, 1, 1, 1, 1],\n",
       "       [1, 1, 1, 1, 1]])"
      ]
     },
     "execution_count": 65,
     "metadata": {},
     "output_type": "execute_result"
    }
   ],
   "source": [
    "ones_matrix = np.ones((5,5), dtype = 'int32')\n",
    "ones_matrix"
   ]
  },
  {
   "cell_type": "code",
   "execution_count": 66,
   "id": "20859dba",
   "metadata": {},
   "outputs": [
    {
     "data": {
      "text/plain": [
       "array([[1, 1, 1, 1, 1],\n",
       "       [1, 0, 0, 0, 1],\n",
       "       [1, 0, 0, 0, 1],\n",
       "       [1, 0, 0, 0, 1],\n",
       "       [1, 1, 1, 1, 1]])"
      ]
     },
     "execution_count": 66,
     "metadata": {},
     "output_type": "execute_result"
    }
   ],
   "source": [
    "# Making a copy of the original ones matrix\n",
    "ones_matrix_copy = np.copy(ones_matrix)\n",
    "\n",
    "# Replacing the values from row 1-3 and from column 1-3 to 0\n",
    "# Creating a (3*3) zeros matrix\n",
    "ones_matrix_copy[1:4, 1:4]= np.zeros((3,3))\n",
    "ones_matrix_copy"
   ]
  },
  {
   "cell_type": "code",
   "execution_count": 67,
   "id": "ffe1deb5",
   "metadata": {},
   "outputs": [
    {
     "data": {
      "text/plain": [
       "array([[1, 1, 1, 1, 1],\n",
       "       [1, 0, 0, 0, 1],\n",
       "       [1, 0, 9, 0, 1],\n",
       "       [1, 0, 0, 0, 1],\n",
       "       [1, 1, 1, 1, 1]])"
      ]
     },
     "execution_count": 67,
     "metadata": {},
     "output_type": "execute_result"
    }
   ],
   "source": [
    "# Lastly replacing the middle value to 9\n",
    "ones_matrix_copy[2,2] = 9\n",
    "ones_matrix_copy"
   ]
  },
  {
   "cell_type": "code",
   "execution_count": 70,
   "id": "c0ca0f72",
   "metadata": {},
   "outputs": [
    {
     "data": {
      "text/plain": [
       "(5, 5)"
      ]
     },
     "execution_count": 70,
     "metadata": {},
     "output_type": "execute_result"
    }
   ],
   "source": [
    "# Dimension of the Matrix\n",
    "ones_matrix_copy.shape"
   ]
  },
  {
   "cell_type": "code",
   "execution_count": 71,
   "id": "d497becb",
   "metadata": {},
   "outputs": [
    {
     "data": {
      "text/plain": [
       "25"
      ]
     },
     "execution_count": 71,
     "metadata": {},
     "output_type": "execute_result"
    }
   ],
   "source": [
    "# Number of total element in the Matrix\n",
    "ones_matrix_copy.size"
   ]
  },
  {
   "cell_type": "markdown",
   "id": "862bb84d",
   "metadata": {},
   "source": [
    "### Important: Copying Arrays"
   ]
  },
  {
   "cell_type": "code",
   "execution_count": 72,
   "id": "3ba4e3b3",
   "metadata": {},
   "outputs": [
    {
     "name": "stdout",
     "output_type": "stream",
     "text": [
      "[1 2 3]\n"
     ]
    }
   ],
   "source": [
    "a = np.array([1,2,3])\n",
    "\n",
    "#Copying a into b\n",
    "b = a\n",
    "print(b)"
   ]
  },
  {
   "cell_type": "code",
   "execution_count": 74,
   "id": "ef8fd1f8",
   "metadata": {},
   "outputs": [
    {
     "name": "stdout",
     "output_type": "stream",
     "text": [
      "b: [100   2   3]\n",
      "a: [100   2   3]\n"
     ]
    }
   ],
   "source": [
    "# Lets change the first element of b to 100\n",
    "b[0] = 100\n",
    "print('b:', b)\n",
    "print('a:', a)"
   ]
  },
  {
   "cell_type": "markdown",
   "id": "07c762a4",
   "metadata": {},
   "source": [
    "Even though we have changed only the value of b which has the copy of a, however, changing a value of b also changed the same value of a. \n",
    "\n",
    "To create a completely separate copy of a we should use a ndarray.copy() method instead."
   ]
  },
  {
   "cell_type": "markdown",
   "id": "70394dd8",
   "metadata": {},
   "source": [
    "# Part-4: Basic Mathematics"
   ]
  },
  {
   "cell_type": "code",
   "execution_count": 75,
   "id": "51a8907d",
   "metadata": {},
   "outputs": [
    {
     "data": {
      "text/plain": [
       "array([1, 2, 3, 4])"
      ]
     },
     "execution_count": 75,
     "metadata": {},
     "output_type": "execute_result"
    }
   ],
   "source": [
    "a = np.array([1,2,3,4])\n",
    "a"
   ]
  },
  {
   "cell_type": "code",
   "execution_count": 82,
   "id": "5b9b84af",
   "metadata": {},
   "outputs": [
    {
     "name": "stdout",
     "output_type": "stream",
     "text": [
      "[1 2 3 4]\n",
      "After adding 2:\n",
      "[3 4 5 6]\n",
      "After subtracting 1:\n",
      "[0 1 2 3]\n",
      "After multiplying 2:\n",
      "[2 4 6 8]\n",
      "After deviding 2:\n",
      "[0.5 1.  1.5 2. ]\n",
      "After squaring:\n",
      "[ 1  4  9 16]\n"
     ]
    }
   ],
   "source": [
    "# Numpy performs element wise arithmatics\n",
    "\n",
    "# If we add 2 to a, then 2 will be added to each element of a\n",
    "print(a)\n",
    "print(\"After adding 2:\")\n",
    "print(a+2)\n",
    "print(\"After subtracting 1:\")\n",
    "print(a-1)\n",
    "print(\"After multiplying 2:\")\n",
    "print(a*2)\n",
    "print(\"After deviding 2:\")\n",
    "print(a/2)\n",
    "print(\"After squaring:\")\n",
    "print(a**2)"
   ]
  },
  {
   "cell_type": "code",
   "execution_count": 83,
   "id": "46166758",
   "metadata": {},
   "outputs": [
    {
     "name": "stdout",
     "output_type": "stream",
     "text": [
      "[2 2 4 4]\n"
     ]
    }
   ],
   "source": [
    "# Adding b array with a array [Element wise addition]\n",
    "b = np.array([1,0,1,0])\n",
    "print(a+b)"
   ]
  },
  {
   "cell_type": "code",
   "execution_count": 86,
   "id": "eb2f6316",
   "metadata": {},
   "outputs": [
    {
     "name": "stdout",
     "output_type": "stream",
     "text": [
      "np.sin(a)-> [ 0.84147098  0.90929743  0.14112001 -0.7568025 ]\n",
      "np.sin(a)-> [ 0.54030231 -0.41614684 -0.9899925  -0.65364362]\n"
     ]
    }
   ],
   "source": [
    "# Sin of each value of a\n",
    "print('np.sin(a)->', np.sin(a))\n",
    "# Sin of each value of a\n",
    "print('np.sin(a)->',np.cos(a))"
   ]
  },
  {
   "cell_type": "markdown",
   "id": "686c299b",
   "metadata": {},
   "source": [
    "# Part-5: Linear Algebra"
   ]
  },
  {
   "cell_type": "code",
   "execution_count": 88,
   "id": "6c23da84",
   "metadata": {},
   "outputs": [
    {
     "name": "stdout",
     "output_type": "stream",
     "text": [
      "[[1. 1. 1.]\n",
      " [1. 1. 1.]]\n",
      "[[2 2]\n",
      " [2 2]\n",
      " [2 2]]\n"
     ]
    }
   ],
   "source": [
    "# Basic Rules: Column of first Matrix should be equeal to the \n",
    "# Row of second Matrix\n",
    "a = np.ones((2,3))\n",
    "print(a)\n",
    "\n",
    "# 3 rows and 2 columns filled with 2s\n",
    "b = np.full((3,2),2)\n",
    "print(b)"
   ]
  },
  {
   "cell_type": "code",
   "execution_count": 92,
   "id": "1f92943d",
   "metadata": {},
   "outputs": [
    {
     "name": "stdout",
     "output_type": "stream",
     "text": [
      "[[6. 6.]\n",
      " [6. 6.]]\n"
     ]
    }
   ],
   "source": [
    "# Matrix Multiplication\n",
    "print(np.matmul(a,b))"
   ]
  },
  {
   "cell_type": "code",
   "execution_count": 94,
   "id": "c63ac3f5",
   "metadata": {},
   "outputs": [
    {
     "data": {
      "text/plain": [
       "1.0"
      ]
     },
     "execution_count": 94,
     "metadata": {},
     "output_type": "execute_result"
    }
   ],
   "source": [
    "# Find the determinant\n",
    "c = np.identity(3)\n",
    "np.linalg.det(c)"
   ]
  },
  {
   "cell_type": "markdown",
   "id": "3548dfec",
   "metadata": {},
   "source": [
    "# Part-6: Statistics"
   ]
  },
  {
   "cell_type": "code",
   "execution_count": 99,
   "id": "44a05d30",
   "metadata": {},
   "outputs": [],
   "source": [
    "array = np.array([[1,2,3],\n",
    "                 [4,5,6]])"
   ]
  },
  {
   "cell_type": "markdown",
   "id": "565db34e",
   "metadata": {},
   "source": [
    "### np.min()"
   ]
  },
  {
   "cell_type": "code",
   "execution_count": 104,
   "id": "aa2bca91",
   "metadata": {},
   "outputs": [
    {
     "name": "stdout",
     "output_type": "stream",
     "text": [
      "[[1 2 3]\n",
      " [4 5 6]]\n",
      "1\n",
      "[1 4]\n",
      "[1 2 3]\n"
     ]
    }
   ],
   "source": [
    "print(array)\n",
    "# Minimum valus in the entire array\n",
    "print(np.min(array))\n",
    "\n",
    "#Minimum value in each of the row\n",
    "print(np.min(array, axis = 1)) # axis = 1 means row-wise operation\n",
    "# so, basically we are saying get the minimum values of each row\n",
    "\n",
    "#Minimum value in each of the column\n",
    "print(np.min(array, axis = 0))  #axis = 0 means Column-wise operation"
   ]
  },
  {
   "cell_type": "markdown",
   "id": "7dc56bb3",
   "metadata": {},
   "source": [
    "### np.max()"
   ]
  },
  {
   "cell_type": "code",
   "execution_count": 106,
   "id": "92728f50",
   "metadata": {},
   "outputs": [
    {
     "name": "stdout",
     "output_type": "stream",
     "text": [
      "[[1 2 3]\n",
      " [4 5 6]]\n",
      "6\n",
      "[3 6]\n",
      "[4 5 6]\n"
     ]
    }
   ],
   "source": [
    "print(array)\n",
    "# Maximum valus in the entire array\n",
    "print(np.max(array))\n",
    "\n",
    "#Maximum value in each of the row\n",
    "print(np.max(array, axis = 1)) # axis = 1 means row-wise operation \n",
    "# so, basically we are saying get the Maximum values of each row\n",
    "\n",
    "#Maximum value in each of the column\n",
    "print(np.max(array, axis = 0))  #axis = 0 means Column-wise operation"
   ]
  },
  {
   "cell_type": "markdown",
   "id": "69ff4383",
   "metadata": {},
   "source": [
    "### np.sum()"
   ]
  },
  {
   "cell_type": "code",
   "execution_count": 107,
   "id": "1bc1d298",
   "metadata": {},
   "outputs": [
    {
     "name": "stdout",
     "output_type": "stream",
     "text": [
      "[[1 2 3]\n",
      " [4 5 6]]\n",
      "21\n",
      "[ 6 15]\n",
      "[5 7 9]\n"
     ]
    }
   ],
   "source": [
    "print(array)\n",
    "# Total of the entire array\n",
    "print(np.sum(array))\n",
    "\n",
    "# Total of each of the row\n",
    "print(np.sum(array, axis = 1)) # axis = 1 means row-wise operation\n",
    "# so, basically we are saying get the total of each row\n",
    "\n",
    "# Total of each of the column\n",
    "print(np.sum(array, axis = 0))  #axis = 0 means Column-wise operation"
   ]
  },
  {
   "cell_type": "markdown",
   "id": "e912555c",
   "metadata": {},
   "source": [
    "### np.mean()"
   ]
  },
  {
   "cell_type": "code",
   "execution_count": 109,
   "id": "e84f8a0c",
   "metadata": {},
   "outputs": [
    {
     "name": "stdout",
     "output_type": "stream",
     "text": [
      "[[1 2 3]\n",
      " [4 5 6]]\n",
      "3.5\n",
      "mean of each row-> [2. 5.]\n",
      "mean of each column-> [2.5 3.5 4.5]\n"
     ]
    }
   ],
   "source": [
    "print(array)\n",
    "# Total of the entire array\n",
    "print(np.mean(array))\n",
    "\n",
    "# Total of each of the row\n",
    "print(\"mean of each row->\",np.mean(array, axis = 1)) # axis = 1 means row-wise operation\n",
    "# so, basically we are saying get the total of each row\n",
    "\n",
    "# Total of each of the column\n",
    "print(\"mean of each column->\",np.mean(array, axis = 0)) #axis = 0 means Column-wise operation"
   ]
  },
  {
   "cell_type": "markdown",
   "id": "d89c3ebd",
   "metadata": {},
   "source": [
    "### np.median()"
   ]
  },
  {
   "cell_type": "code",
   "execution_count": 111,
   "id": "bae30c49",
   "metadata": {},
   "outputs": [
    {
     "name": "stdout",
     "output_type": "stream",
     "text": [
      "[[1 2 3]\n",
      " [4 5 6]]\n",
      "3.5\n",
      "median of each row-> [2. 5.]\n",
      "median of each column-> [2.5 3.5 4.5]\n"
     ]
    }
   ],
   "source": [
    "print(array)\n",
    "# Total of the entire array\n",
    "print(np.median(array))\n",
    "\n",
    "# Total of each of the row\n",
    "print(\"median of each row->\",np.median(array, axis = 1)) # axis = 1 means row-wise operation\n",
    "# so, basically we are saying get the total of each row\n",
    "\n",
    "# Total of each of the column\n",
    "print(\"median of each column->\",np.median(array, axis = 0)) #axis = 0 means Column-wise operation"
   ]
  },
  {
   "cell_type": "markdown",
   "id": "3e650c43",
   "metadata": {},
   "source": [
    "# Part-6: Reorganizing Arrays"
   ]
  },
  {
   "cell_type": "code",
   "execution_count": 112,
   "id": "7c9a2045",
   "metadata": {},
   "outputs": [
    {
     "data": {
      "text/plain": [
       "array([[1, 2, 3, 4],\n",
       "       [5, 6, 7, 8]])"
      ]
     },
     "execution_count": 112,
     "metadata": {},
     "output_type": "execute_result"
    }
   ],
   "source": [
    "before = np.array([[1,2,3,4],\n",
    "                  [5,6,7,8]])\n",
    "before"
   ]
  },
  {
   "cell_type": "code",
   "execution_count": 113,
   "id": "4f84ec7f",
   "metadata": {},
   "outputs": [
    {
     "data": {
      "text/plain": [
       "(2, 4)"
      ]
     },
     "execution_count": 113,
     "metadata": {},
     "output_type": "execute_result"
    }
   ],
   "source": [
    "# Shape of the Matrix\n",
    "before.shape"
   ]
  },
  {
   "cell_type": "markdown",
   "id": "033e1a5f",
   "metadata": {},
   "source": [
    "### Changing the chape of the Matrix\n",
    "* **ndarry.reshape((row, column))**\n",
    "\n",
    "Note: Basically we are passing the shape we want our array to have"
   ]
  },
  {
   "cell_type": "code",
   "execution_count": 115,
   "id": "7d159e55",
   "metadata": {},
   "outputs": [
    {
     "data": {
      "text/plain": [
       "array([[1, 2],\n",
       "       [3, 4],\n",
       "       [5, 6],\n",
       "       [7, 8]])"
      ]
     },
     "execution_count": 115,
     "metadata": {},
     "output_type": "execute_result"
    }
   ],
   "source": [
    "after = before.reshape((4,2))\n",
    "after"
   ]
  },
  {
   "cell_type": "markdown",
   "id": "e856aded",
   "metadata": {},
   "source": [
    "### ValueError while reshaping"
   ]
  },
  {
   "cell_type": "code",
   "execution_count": 117,
   "id": "c529cdd1",
   "metadata": {},
   "outputs": [
    {
     "name": "stdout",
     "output_type": "stream",
     "text": [
      "[[1 2 3 4]\n",
      " [5 6 7 8]]\n"
     ]
    },
    {
     "ename": "ValueError",
     "evalue": "cannot reshape array of size 8 into shape (4,3)",
     "output_type": "error",
     "traceback": [
      "\u001b[1;31m---------------------------------------------------------------------------\u001b[0m",
      "\u001b[1;31mValueError\u001b[0m                                Traceback (most recent call last)",
      "\u001b[1;32m~\\AppData\\Local\\Temp/ipykernel_18084/2036392396.py\u001b[0m in \u001b[0;36m<module>\u001b[1;34m\u001b[0m\n\u001b[0;32m      1\u001b[0m \u001b[0mprint\u001b[0m\u001b[1;33m(\u001b[0m\u001b[0mbefore\u001b[0m\u001b[1;33m)\u001b[0m\u001b[1;33m\u001b[0m\u001b[1;33m\u001b[0m\u001b[0m\n\u001b[1;32m----> 2\u001b[1;33m \u001b[0mafter\u001b[0m \u001b[1;33m=\u001b[0m \u001b[0mbefore\u001b[0m\u001b[1;33m.\u001b[0m\u001b[0mreshape\u001b[0m\u001b[1;33m(\u001b[0m\u001b[1;33m(\u001b[0m\u001b[1;36m4\u001b[0m\u001b[1;33m,\u001b[0m\u001b[1;36m3\u001b[0m\u001b[1;33m)\u001b[0m\u001b[1;33m)\u001b[0m\u001b[1;33m\u001b[0m\u001b[1;33m\u001b[0m\u001b[0m\n\u001b[0m\u001b[0;32m      3\u001b[0m \u001b[0mprint\u001b[0m\u001b[1;33m(\u001b[0m\u001b[0mafter\u001b[0m\u001b[1;33m)\u001b[0m\u001b[1;33m\u001b[0m\u001b[1;33m\u001b[0m\u001b[0m\n",
      "\u001b[1;31mValueError\u001b[0m: cannot reshape array of size 8 into shape (4,3)"
     ]
    }
   ],
   "source": [
    "print(before)\n",
    "after = before.reshape((4,3))\n",
    "print(after)"
   ]
  },
  {
   "cell_type": "markdown",
   "id": "f379cff2",
   "metadata": {},
   "source": [
    "<font color='black'>**Notes**:</font> \n",
    "<p style=\"color:red;\">ValueError: This error occurs because it is not possible to distribute evenly the **before** matrix as 4 rows and 3 columns.</p>\n",
    " "
   ]
  },
  {
   "cell_type": "markdown",
   "id": "40825a49",
   "metadata": {},
   "source": [
    "### Vertical Stacking\n",
    "<font color='green'>**Note:** Dimensions are important in vertical stacking</font> "
   ]
  },
  {
   "cell_type": "code",
   "execution_count": 123,
   "id": "2f3eeda0",
   "metadata": {},
   "outputs": [
    {
     "name": "stdout",
     "output_type": "stream",
     "text": [
      "[[1 2 3 4]\n",
      " [5 6 7 8]\n",
      " [1 2 3 4]\n",
      " [5 6 7 8]]\n"
     ]
    }
   ],
   "source": [
    "v1 = np.array([1,2,3,4])\n",
    "v2 = np.array([5,6,7,8])\n",
    "\n",
    "print(np.vstack((v1,v2,v1,v2)))"
   ]
  },
  {
   "cell_type": "markdown",
   "id": "74ce47f5",
   "metadata": {},
   "source": [
    "### Vertical Stacking ValueError/ Size mismatch Error Demo"
   ]
  },
  {
   "cell_type": "code",
   "execution_count": 124,
   "id": "0168f4f1",
   "metadata": {},
   "outputs": [
    {
     "ename": "ValueError",
     "evalue": "all the input array dimensions for the concatenation axis must match exactly, but along dimension 1, the array at index 0 has size 4 and the array at index 1 has size 5",
     "output_type": "error",
     "traceback": [
      "\u001b[1;31m---------------------------------------------------------------------------\u001b[0m",
      "\u001b[1;31mValueError\u001b[0m                                Traceback (most recent call last)",
      "\u001b[1;32m~\\AppData\\Local\\Temp/ipykernel_18084/2235713748.py\u001b[0m in \u001b[0;36m<module>\u001b[1;34m\u001b[0m\n\u001b[0;32m      2\u001b[0m \u001b[0mv2\u001b[0m \u001b[1;33m=\u001b[0m \u001b[0mnp\u001b[0m\u001b[1;33m.\u001b[0m\u001b[0marray\u001b[0m\u001b[1;33m(\u001b[0m\u001b[1;33m[\u001b[0m\u001b[1;36m5\u001b[0m\u001b[1;33m,\u001b[0m\u001b[1;36m6\u001b[0m\u001b[1;33m,\u001b[0m\u001b[1;36m7\u001b[0m\u001b[1;33m,\u001b[0m\u001b[1;36m8\u001b[0m\u001b[1;33m,\u001b[0m \u001b[1;36m9\u001b[0m\u001b[1;33m]\u001b[0m\u001b[1;33m)\u001b[0m\u001b[1;33m\u001b[0m\u001b[1;33m\u001b[0m\u001b[0m\n\u001b[0;32m      3\u001b[0m \u001b[1;33m\u001b[0m\u001b[0m\n\u001b[1;32m----> 4\u001b[1;33m \u001b[0mprint\u001b[0m\u001b[1;33m(\u001b[0m\u001b[0mnp\u001b[0m\u001b[1;33m.\u001b[0m\u001b[0mvstack\u001b[0m\u001b[1;33m(\u001b[0m\u001b[1;33m(\u001b[0m\u001b[0mv1\u001b[0m\u001b[1;33m,\u001b[0m\u001b[0mv2\u001b[0m\u001b[1;33m,\u001b[0m\u001b[0mv1\u001b[0m\u001b[1;33m,\u001b[0m\u001b[0mv2\u001b[0m\u001b[1;33m)\u001b[0m\u001b[1;33m)\u001b[0m\u001b[1;33m)\u001b[0m\u001b[1;33m\u001b[0m\u001b[1;33m\u001b[0m\u001b[0m\n\u001b[0m",
      "\u001b[1;32m<__array_function__ internals>\u001b[0m in \u001b[0;36mvstack\u001b[1;34m(*args, **kwargs)\u001b[0m\n",
      "\u001b[1;32m~\\anaconda3\\lib\\site-packages\\numpy\\core\\shape_base.py\u001b[0m in \u001b[0;36mvstack\u001b[1;34m(tup)\u001b[0m\n\u001b[0;32m    281\u001b[0m     \u001b[1;32mif\u001b[0m \u001b[1;32mnot\u001b[0m \u001b[0misinstance\u001b[0m\u001b[1;33m(\u001b[0m\u001b[0marrs\u001b[0m\u001b[1;33m,\u001b[0m \u001b[0mlist\u001b[0m\u001b[1;33m)\u001b[0m\u001b[1;33m:\u001b[0m\u001b[1;33m\u001b[0m\u001b[1;33m\u001b[0m\u001b[0m\n\u001b[0;32m    282\u001b[0m         \u001b[0marrs\u001b[0m \u001b[1;33m=\u001b[0m \u001b[1;33m[\u001b[0m\u001b[0marrs\u001b[0m\u001b[1;33m]\u001b[0m\u001b[1;33m\u001b[0m\u001b[1;33m\u001b[0m\u001b[0m\n\u001b[1;32m--> 283\u001b[1;33m     \u001b[1;32mreturn\u001b[0m \u001b[0m_nx\u001b[0m\u001b[1;33m.\u001b[0m\u001b[0mconcatenate\u001b[0m\u001b[1;33m(\u001b[0m\u001b[0marrs\u001b[0m\u001b[1;33m,\u001b[0m \u001b[1;36m0\u001b[0m\u001b[1;33m)\u001b[0m\u001b[1;33m\u001b[0m\u001b[1;33m\u001b[0m\u001b[0m\n\u001b[0m\u001b[0;32m    284\u001b[0m \u001b[1;33m\u001b[0m\u001b[0m\n\u001b[0;32m    285\u001b[0m \u001b[1;33m\u001b[0m\u001b[0m\n",
      "\u001b[1;32m<__array_function__ internals>\u001b[0m in \u001b[0;36mconcatenate\u001b[1;34m(*args, **kwargs)\u001b[0m\n",
      "\u001b[1;31mValueError\u001b[0m: all the input array dimensions for the concatenation axis must match exactly, but along dimension 1, the array at index 0 has size 4 and the array at index 1 has size 5"
     ]
    }
   ],
   "source": [
    "v1 = np.array([1,2,3,4])\n",
    "v2 = np.array([5,6,7,8, 9])\n",
    "\n",
    "print(np.vstack((v1,v2,v1,v2)))"
   ]
  },
  {
   "cell_type": "markdown",
   "id": "c0bbd888",
   "metadata": {},
   "source": [
    "<font color='black'>**Notes**:</font> \n",
    "<p style=\"color:red;\">ValueError: This error occurs because v1 array has 4 elements in it and v2 has 5 elements in it. Thus causing a **ValueError**</p>"
   ]
  },
  {
   "cell_type": "markdown",
   "id": "a4fb8e2a",
   "metadata": {},
   "source": [
    "### Horizontal Stacking\n",
    "<font color='green'>**Note:** Dimensions are important in horizontal stacking</font> "
   ]
  },
  {
   "cell_type": "code",
   "execution_count": 128,
   "id": "105e43f3",
   "metadata": {},
   "outputs": [
    {
     "name": "stdout",
     "output_type": "stream",
     "text": [
      "[[1. 1. 1. 1.]\n",
      " [1. 1. 1. 1.]]\n",
      "[[0. 0.]\n",
      " [0. 0.]]\n"
     ]
    }
   ],
   "source": [
    "h1 = np.ones((2,4))\n",
    "h2 = np.zeros((2,2))\n",
    "print(h1)\n",
    "print(h2)\n",
    "\n"
   ]
  },
  {
   "cell_type": "code",
   "execution_count": 129,
   "id": "125adc88",
   "metadata": {},
   "outputs": [
    {
     "data": {
      "text/plain": [
       "array([[1., 1., 1., 1., 0., 0.],\n",
       "       [1., 1., 1., 1., 0., 0.]])"
      ]
     },
     "execution_count": 129,
     "metadata": {},
     "output_type": "execute_result"
    }
   ],
   "source": [
    "# Horizontal Stack\n",
    "\n",
    "np.hstack((h1,h2))"
   ]
  },
  {
   "cell_type": "markdown",
   "id": "766f1ec8",
   "metadata": {},
   "source": [
    "# Part-8: Loading Data from Files\n",
    "\n",
    "<font color='red'>**Note:** Numpy array can have only _**one**_ data type</font>"
   ]
  },
  {
   "cell_type": "code",
   "execution_count": 145,
   "id": "2bdc881c",
   "metadata": {},
   "outputs": [],
   "source": [
    "# Loading a CSV file into Numpy. \n",
    "# np.genfromtxt('my_file.csv', delimiter = ',') \n",
    "# Because this is a CSV file so the values are separated by Commas\n",
    "# that's why delimiter = ','\n",
    "\n",
    "# The file has column names as string datatype\n",
    "# and as stated above numpy array can have only one datatype\n",
    "# therfore, we are skipping the headers. \n",
    "# skip_header = 1, that is the first line, this is not according to the index.\n",
    "\n",
    "filedata = np.genfromtxt('nyc_taxis.csv',delimiter = ',', skip_header = 1 )"
   ]
  },
  {
   "cell_type": "code",
   "execution_count": 146,
   "id": "17341509",
   "metadata": {},
   "outputs": [
    {
     "data": {
      "text/plain": [
       "array([[2.016e+03, 1.000e+00, 1.000e+00, ..., 1.165e+01, 6.999e+01,\n",
       "        1.000e+00],\n",
       "       [2.016e+03, 1.000e+00, 1.000e+00, ..., 8.000e+00, 5.430e+01,\n",
       "        1.000e+00],\n",
       "       [2.016e+03, 1.000e+00, 1.000e+00, ..., 0.000e+00, 3.780e+01,\n",
       "        2.000e+00],\n",
       "       ...,\n",
       "       [2.016e+03, 6.000e+00, 3.000e+01, ..., 5.000e+00, 6.334e+01,\n",
       "        1.000e+00],\n",
       "       [2.016e+03, 6.000e+00, 3.000e+01, ..., 8.950e+00, 4.475e+01,\n",
       "        1.000e+00],\n",
       "       [2.016e+03, 6.000e+00, 3.000e+01, ..., 0.000e+00, 5.484e+01,\n",
       "        2.000e+00]])"
      ]
     },
     "execution_count": 146,
     "metadata": {},
     "output_type": "execute_result"
    }
   ],
   "source": [
    "filedata"
   ]
  },
  {
   "cell_type": "markdown",
   "id": "8527d557",
   "metadata": {},
   "source": [
    "### Convert one data type to another\n",
    "* ndarray.astype('datatype')\n",
    "    > ndarray.astype('int32')"
   ]
  },
  {
   "cell_type": "code",
   "execution_count": 147,
   "id": "569aa3e3",
   "metadata": {},
   "outputs": [
    {
     "data": {
      "text/plain": [
       "dtype('float64')"
      ]
     },
     "execution_count": 147,
     "metadata": {},
     "output_type": "execute_result"
    }
   ],
   "source": [
    "filedata.dtype"
   ]
  },
  {
   "cell_type": "markdown",
   "id": "99767d57",
   "metadata": {},
   "source": [
    "#### Note: ndarray.astype('datatype') - creates a new copy of the array\n",
    "* **ndarray.astype()** method does not chage the original array"
   ]
  },
  {
   "cell_type": "code",
   "execution_count": 148,
   "id": "36848626",
   "metadata": {},
   "outputs": [
    {
     "data": {
      "text/plain": [
       "array([[2016,    1,    1, ...,   11,   69,    1],\n",
       "       [2016,    1,    1, ...,    8,   54,    1],\n",
       "       [2016,    1,    1, ...,    0,   37,    2],\n",
       "       ...,\n",
       "       [2016,    6,   30, ...,    5,   63,    1],\n",
       "       [2016,    6,   30, ...,    8,   44,    1],\n",
       "       [2016,    6,   30, ...,    0,   54,    2]], dtype=int64)"
      ]
     },
     "execution_count": 148,
     "metadata": {},
     "output_type": "execute_result"
    }
   ],
   "source": [
    "#Note: ndarray.astype('datatype') - creates a new copy of the array\n",
    "# .astype() method does not chage the original array\n",
    "filedata.astype('int64')"
   ]
  },
  {
   "cell_type": "code",
   "execution_count": 149,
   "id": "27cde483",
   "metadata": {},
   "outputs": [
    {
     "data": {
      "text/plain": [
       "array([[2.016e+03, 1.000e+00, 1.000e+00, ..., 1.165e+01, 6.999e+01,\n",
       "        1.000e+00],\n",
       "       [2.016e+03, 1.000e+00, 1.000e+00, ..., 8.000e+00, 5.430e+01,\n",
       "        1.000e+00],\n",
       "       [2.016e+03, 1.000e+00, 1.000e+00, ..., 0.000e+00, 3.780e+01,\n",
       "        2.000e+00],\n",
       "       ...,\n",
       "       [2.016e+03, 6.000e+00, 3.000e+01, ..., 5.000e+00, 6.334e+01,\n",
       "        1.000e+00],\n",
       "       [2.016e+03, 6.000e+00, 3.000e+01, ..., 8.950e+00, 4.475e+01,\n",
       "        1.000e+00],\n",
       "       [2.016e+03, 6.000e+00, 3.000e+01, ..., 0.000e+00, 5.484e+01,\n",
       "        2.000e+00]])"
      ]
     },
     "execution_count": 149,
     "metadata": {},
     "output_type": "execute_result"
    }
   ],
   "source": [
    "#Original array\n",
    "filedata"
   ]
  },
  {
   "cell_type": "code",
   "execution_count": 150,
   "id": "91e55add",
   "metadata": {},
   "outputs": [],
   "source": [
    "# To change the original filedata array to we can do the following\n",
    "filedata = filedata.astype('int64')"
   ]
  },
  {
   "cell_type": "code",
   "execution_count": 151,
   "id": "c399c62f",
   "metadata": {},
   "outputs": [
    {
     "data": {
      "text/plain": [
       "array([[2016,    1,    1, ...,   11,   69,    1],\n",
       "       [2016,    1,    1, ...,    8,   54,    1],\n",
       "       [2016,    1,    1, ...,    0,   37,    2],\n",
       "       ...,\n",
       "       [2016,    6,   30, ...,    5,   63,    1],\n",
       "       [2016,    6,   30, ...,    8,   44,    1],\n",
       "       [2016,    6,   30, ...,    0,   54,    2]], dtype=int64)"
      ]
     },
     "execution_count": 151,
     "metadata": {},
     "output_type": "execute_result"
    }
   ],
   "source": [
    "filedata"
   ]
  },
  {
   "cell_type": "markdown",
   "id": "909aca93",
   "metadata": {},
   "source": [
    "# Part-9: Advanced Indexing\n",
    "# Boolean Masking"
   ]
  },
  {
   "cell_type": "code",
   "execution_count": 152,
   "id": "157b8212",
   "metadata": {},
   "outputs": [
    {
     "data": {
      "text/plain": [
       "2013"
      ]
     },
     "execution_count": 152,
     "metadata": {},
     "output_type": "execute_result"
    }
   ],
   "source": [
    "filedata.shape[0]"
   ]
  },
  {
   "cell_type": "code",
   "execution_count": 157,
   "id": "25856d5f",
   "metadata": {},
   "outputs": [
    {
     "data": {
      "text/plain": [
       "100"
      ]
     },
     "execution_count": 157,
     "metadata": {},
     "output_type": "execute_result"
    }
   ],
   "source": [
    "# Shortening the Dataset to 100 rows instead of 2013 rows\n",
    "filedata_shortened = filedata[0:100,:]\n",
    "filedata_shortened.shape[0]"
   ]
  },
  {
   "cell_type": "code",
   "execution_count": 158,
   "id": "58a5d7d9",
   "metadata": {},
   "outputs": [
    {
     "data": {
      "text/plain": [
       "array([2, 3, 9])"
      ]
     },
     "execution_count": 158,
     "metadata": {},
     "output_type": "execute_result"
    }
   ],
   "source": [
    "# Index with a list in Numpy\n",
    "a = np.array([1,2,3,4,5,6,7,8,9])\n",
    "# If we want 2(index: 1),3(index: 2),9(index: 8 or -1) from the a array\n",
    "a[[1,2,-1]]"
   ]
  },
  {
   "cell_type": "code",
   "execution_count": 161,
   "id": "1251e54b",
   "metadata": {},
   "outputs": [
    {
     "data": {
      "text/plain": [
       "array([ True, False, False, False, False, False, False, False,  True,\n",
       "       False, False, False, False, False, False])"
      ]
     },
     "execution_count": 161,
     "metadata": {},
     "output_type": "execute_result"
    }
   ],
   "source": [
    "# If any value in the filedata_shortened are greater than 100\n",
    "np.any(filedata_shortened>200, axis = 0) ## axis = 0 means rcolumn-wise operation"
   ]
  },
  {
   "cell_type": "code",
   "execution_count": 162,
   "id": "c1913146",
   "metadata": {},
   "outputs": [
    {
     "data": {
      "text/plain": [
       "array([ True,  True,  True,  True,  True,  True,  True,  True,  True,\n",
       "        True,  True,  True,  True,  True,  True,  True,  True,  True,\n",
       "        True,  True,  True,  True,  True,  True,  True,  True,  True,\n",
       "        True,  True,  True,  True,  True,  True,  True,  True,  True,\n",
       "        True,  True,  True,  True,  True,  True,  True,  True,  True,\n",
       "        True,  True,  True,  True,  True,  True,  True,  True,  True,\n",
       "        True,  True,  True,  True,  True,  True,  True,  True,  True,\n",
       "        True,  True,  True,  True,  True,  True,  True,  True,  True,\n",
       "        True,  True,  True,  True,  True,  True,  True,  True,  True,\n",
       "        True,  True,  True,  True,  True,  True,  True,  True,  True,\n",
       "        True,  True,  True,  True,  True,  True,  True,  True,  True,\n",
       "        True])"
      ]
     },
     "execution_count": 162,
     "metadata": {},
     "output_type": "execute_result"
    }
   ],
   "source": [
    "# If any value in the filedata_shortened are greater than 100\n",
    "np.any(filedata_shortened>200, axis = 1) ## axis = 1 means row-wise operation"
   ]
  },
  {
   "cell_type": "code",
   "execution_count": 163,
   "id": "3010f5fb",
   "metadata": {},
   "outputs": [
    {
     "data": {
      "text/plain": [
       "array([ True, False, False, False, False, False, False, False, False,\n",
       "       False, False, False, False, False, False])"
      ]
     },
     "execution_count": 163,
     "metadata": {},
     "output_type": "execute_result"
    }
   ],
   "source": [
    "np.all(filedata_shortened>200, axis = 0) ## axis = 0 means rcolumn-wise operation"
   ]
  },
  {
   "cell_type": "code",
   "execution_count": 166,
   "id": "4e46aff7",
   "metadata": {},
   "outputs": [
    {
     "data": {
      "text/plain": [
       "array([[False, False, False, ..., False, False, False],\n",
       "       [False, False, False, ..., False, False, False],\n",
       "       [False, False, False, ..., False, False, False],\n",
       "       ...,\n",
       "       [False, False, False, ..., False, False, False],\n",
       "       [False, False, False, ..., False, False, False],\n",
       "       [False, False, False, ..., False, False, False]])"
      ]
     },
     "execution_count": 166,
     "metadata": {},
     "output_type": "execute_result"
    }
   ],
   "source": [
    "# All values greater than 100 and all values less than 200\n",
    "((filedata_shortened>100) & (filedata_shortened<200))"
   ]
  },
  {
   "cell_type": "code",
   "execution_count": 167,
   "id": "9c02e4ad",
   "metadata": {},
   "outputs": [
    {
     "data": {
      "text/plain": [
       "array([[False,  True,  True, ...,  True,  True,  True],\n",
       "       [False,  True,  True, ...,  True,  True,  True],\n",
       "       [False,  True,  True, ...,  True,  True,  True],\n",
       "       ...,\n",
       "       [False,  True,  True, ...,  True,  True,  True],\n",
       "       [False,  True,  True, ...,  True,  True,  True],\n",
       "       [False,  True,  True, ...,  True,  True,  True]])"
      ]
     },
     "execution_count": 167,
     "metadata": {},
     "output_type": "execute_result"
    }
   ],
   "source": [
    "# not All values greater than 100 and all values less than 200\n",
    "(~(filedata_shortened>100) & (filedata_shortened<200))"
   ]
  },
  {
   "attachments": {
    "image.png": {
     "image/png": "[encoded data removed]"
    }
   },
   "cell_type": "markdown",
   "id": "99b9dd1f",
   "metadata": {},
   "source": [
    "# Exercise\n",
    "![image.png](attachment:image.png)"
   ]
  },
  {
   "cell_type": "code",
   "execution_count": 219,
   "id": "ca009ac8",
   "metadata": {},
   "outputs": [
    {
     "data": {
      "text/plain": [
       "matrix([[ 1,  2,  3,  4,  5],\n",
       "        [ 6,  7,  8,  9, 10],\n",
       "        [11, 12, 13, 14, 15],\n",
       "        [16, 17, 18, 19, 20],\n",
       "        [21, 22, 23, 24, 25],\n",
       "        [26, 27, 28, 29, 30]])"
      ]
     },
     "execution_count": 219,
     "metadata": {},
     "output_type": "execute_result"
    }
   ],
   "source": [
    "# Creating a Matrix\n",
    "matrix = np.matrix(np.arange(1,31).reshape((6,5)))\n",
    "matrix"
   ]
  },
  {
   "cell_type": "markdown",
   "id": "e57b3942",
   "metadata": {},
   "source": [
    "\n",
    "<font color='blue'> **Answer to the blue part [[11,12],\n",
    "    [16,17]]** </f>\n"
   ]
  },
  {
   "cell_type": "code",
   "execution_count": 240,
   "id": "05e431d4",
   "metadata": {},
   "outputs": [
    {
     "data": {
      "text/plain": [
       "matrix([[11, 12],\n",
       "        [16, 17]])"
      ]
     },
     "execution_count": 240,
     "metadata": {},
     "output_type": "execute_result"
    }
   ],
   "source": [
    "matrix[2:4,0:2]"
   ]
  },
  {
   "cell_type": "markdown",
   "id": "5fa3f0f8",
   "metadata": {},
   "source": [
    "<font color='green'> **Answer to the green part [2,8,14,20]**</f>"
   ]
  },
  {
   "cell_type": "code",
   "execution_count": 241,
   "id": "092766a1",
   "metadata": {},
   "outputs": [
    {
     "data": {
      "text/plain": [
       "matrix([[ 2,  3,  4,  5],\n",
       "        [ 7,  8,  9, 10],\n",
       "        [12, 13, 14, 15],\n",
       "        [17, 18, 19, 20]])"
      ]
     },
     "execution_count": 241,
     "metadata": {},
     "output_type": "execute_result"
    }
   ],
   "source": [
    "# Shortening the Matrix\n",
    "rows = matrix[:4, 1:]\n",
    "rows"
   ]
  },
  {
   "cell_type": "code",
   "execution_count": 242,
   "id": "cf6ccbd5",
   "metadata": {},
   "outputs": [
    {
     "data": {
      "text/plain": [
       "matrix([[ 2,  8, 14, 20]])"
      ]
     },
     "execution_count": 242,
     "metadata": {},
     "output_type": "execute_result"
    }
   ],
   "source": [
    "# To select 2,8,14,20\n",
    "#rows[[rows],[columns]]\n",
    "rows[[0,1,2,3],[0,1,2,3]]"
   ]
  },
  {
   "cell_type": "markdown",
   "id": "c687c6dd",
   "metadata": {},
   "source": [
    "<font color='red'>**Answer to the red part [4,5][24,25][29,30]**</f>"
   ]
  },
  {
   "cell_type": "code",
   "execution_count": 243,
   "id": "cb2abe28",
   "metadata": {},
   "outputs": [
    {
     "data": {
      "text/plain": [
       "matrix([[ 4,  5],\n",
       "        [ 9, 10],\n",
       "        [14, 15],\n",
       "        [19, 20],\n",
       "        [24, 25],\n",
       "        [29, 30]])"
      ]
     },
     "execution_count": 243,
     "metadata": {},
     "output_type": "execute_result"
    }
   ],
   "source": [
    "#shortening the matrix\n",
    "cols = matrix[:, 3:]\n",
    "cols"
   ]
  },
  {
   "cell_type": "code",
   "execution_count": 246,
   "id": "f9584a42",
   "metadata": {},
   "outputs": [
    {
     "data": {
      "text/plain": [
       "matrix([[ 4,  5],\n",
       "        [24, 25],\n",
       "        [29, 30]])"
      ]
     },
     "execution_count": 246,
     "metadata": {},
     "output_type": "execute_result"
    }
   ],
   "source": [
    "cols[[0,4,5],:]"
   ]
  },
  {
   "cell_type": "markdown",
   "id": "3b465d58",
   "metadata": {},
   "source": [
    "# Links with more information! \n",
    "\n",
    "[NumPy vs Lists](https://jakevdp.github.io/blog/2014/05/09/why-python-is-slow/)\n",
    "\n",
    "[Indexing](https://docs.scipy.org/doc/numpy-1.13.0/user/basics.indexing.html)\n",
    "\n",
    "[Array Creation Routines](https://numpy.org/doc/stable/reference/routines.array-creation.html)\n",
    "\n",
    "[Math Routines Docs](https://numpy.org/doc/stable/reference/routines.math.html)\n",
    "\n",
    "[Linear Algebra Docs](https://numpy.org/doc/stable/reference/routines.linalg.html)\n"
   ]
  },
  {
   "cell_type": "markdown",
   "id": "f1d20872",
   "metadata": {},
   "source": [
    "# Extras:"
   ]
  },
  {
   "cell_type": "code",
   "execution_count": null,
   "id": "88733bd0",
   "metadata": {},
   "outputs": [],
   "source": [
    "# Read file using python\n",
    "from csv import reader"
   ]
  },
  {
   "cell_type": "code",
   "execution_count": 2,
   "id": "2233e150",
   "metadata": {},
   "outputs": [],
   "source": [
    "taxi_py = open('nyc_taxis.csv')\n",
    "read = reader(taxi_py)\n",
    "taxi_list = list(read)"
   ]
  },
  {
   "cell_type": "code",
   "execution_count": 3,
   "id": "c99dcd56",
   "metadata": {},
   "outputs": [
    {
     "data": {
      "text/plain": [
       "[['pickup_year',\n",
       "  'pickup_month',\n",
       "  'pickup_day',\n",
       "  'pickup_dayofweek',\n",
       "  'pickup_time',\n",
       "  'pickup_location_code',\n",
       "  'dropoff_location_code',\n",
       "  'trip_distance',\n",
       "  'trip_length',\n",
       "  'fare_amount',\n",
       "  'fees_amount',\n",
       "  'tolls_amount',\n",
       "  'tip_amount',\n",
       "  'total_amount',\n",
       "  'payment_type']]"
      ]
     },
     "execution_count": 3,
     "metadata": {},
     "output_type": "execute_result"
    }
   ],
   "source": [
    "taxi_list[0:1]"
   ]
  },
  {
   "cell_type": "code",
   "execution_count": 4,
   "id": "3467482d",
   "metadata": {},
   "outputs": [],
   "source": [
    "taxi = np.genfromtxt('nyc_taxis.csv', delimiter =',', skip_header=1)"
   ]
  },
  {
   "cell_type": "code",
   "execution_count": 5,
   "id": "228a9fc4",
   "metadata": {},
   "outputs": [],
   "source": [
    "copy_taxi = taxi.copy()"
   ]
  },
  {
   "cell_type": "code",
   "execution_count": 6,
   "id": "8a48c30a",
   "metadata": {},
   "outputs": [
    {
     "data": {
      "text/plain": [
       "(2013, 15)"
      ]
     },
     "execution_count": 6,
     "metadata": {},
     "output_type": "execute_result"
    }
   ],
   "source": [
    "copy_taxi.shape"
   ]
  },
  {
   "cell_type": "code",
   "execution_count": 7,
   "id": "aa27cef8",
   "metadata": {},
   "outputs": [],
   "source": [
    "shortened_copy_taxi = copy_taxi[:1001,:]"
   ]
  },
  {
   "cell_type": "code",
   "execution_count": 8,
   "id": "81cd270e",
   "metadata": {},
   "outputs": [
    {
     "data": {
      "text/plain": [
       "(1001, 15)"
      ]
     },
     "execution_count": 8,
     "metadata": {},
     "output_type": "execute_result"
    }
   ],
   "source": [
    "shortened_copy_taxi.shape"
   ]
  },
  {
   "cell_type": "code",
   "execution_count": 9,
   "id": "4ad32135",
   "metadata": {},
   "outputs": [],
   "source": [
    "# Creating a Zeros column of the same shape as the shortened array\n",
    "zeros = np.zeros((shortened_copy_taxi.shape[0],1))"
   ]
  },
  {
   "cell_type": "code",
   "execution_count": 10,
   "id": "141950b0",
   "metadata": {},
   "outputs": [
    {
     "data": {
      "text/plain": [
       "(1001, 1)"
      ]
     },
     "execution_count": 10,
     "metadata": {},
     "output_type": "execute_result"
    }
   ],
   "source": [
    "zeros.shape"
   ]
  },
  {
   "cell_type": "code",
   "execution_count": 11,
   "id": "244a8b58",
   "metadata": {},
   "outputs": [],
   "source": [
    "# Concatenating the Zeros column into the shortened array\n",
    "shortened_copy_taxi = np.concatenate((shortened_copy_taxi, zeros),axis = 1)"
   ]
  },
  {
   "cell_type": "code",
   "execution_count": 12,
   "id": "d6a7e81e",
   "metadata": {},
   "outputs": [
    {
     "data": {
      "text/plain": [
       "(1001, 16)"
      ]
     },
     "execution_count": 12,
     "metadata": {},
     "output_type": "execute_result"
    }
   ],
   "source": [
    "shortened_copy_taxi.shape"
   ]
  },
  {
   "cell_type": "code",
   "execution_count": 13,
   "id": "fb820b81",
   "metadata": {},
   "outputs": [
    {
     "data": {
      "text/plain": [
       "array([[2.016e+03, 1.000e+00, 1.000e+00, ..., 6.999e+01, 1.000e+00,\n",
       "        0.000e+00],\n",
       "       [2.016e+03, 1.000e+00, 1.000e+00, ..., 5.430e+01, 1.000e+00,\n",
       "        0.000e+00],\n",
       "       [2.016e+03, 1.000e+00, 1.000e+00, ..., 3.780e+01, 2.000e+00,\n",
       "        0.000e+00],\n",
       "       ...,\n",
       "       [2.016e+03, 3.000e+00, 4.000e+00, ..., 3.881e+01, 1.000e+00,\n",
       "        0.000e+00],\n",
       "       [2.016e+03, 3.000e+00, 4.000e+00, ..., 3.940e+01, 1.000e+00,\n",
       "        0.000e+00],\n",
       "       [2.016e+03, 3.000e+00, 4.000e+00, ..., 3.834e+01, 1.000e+00,\n",
       "        0.000e+00]])"
      ]
     },
     "execution_count": 13,
     "metadata": {},
     "output_type": "execute_result"
    }
   ],
   "source": [
    "shortened_copy_taxi\n",
    "    "
   ]
  },
  {
   "cell_type": "code",
   "execution_count": 17,
   "id": "45ed14d1",
   "metadata": {},
   "outputs": [
    {
     "data": {
      "text/plain": [
       "array([[1, 2, 3],\n",
       "       [5, 6, 7]])"
      ]
     },
     "execution_count": 17,
     "metadata": {},
     "output_type": "execute_result"
    }
   ],
   "source": [
    "a = np.array([[1,2,3],\n",
    "             [5,6,7]])\n",
    "a"
   ]
  },
  {
   "cell_type": "code",
   "execution_count": 18,
   "id": "4b78a95c",
   "metadata": {},
   "outputs": [
    {
     "data": {
      "text/plain": [
       "False"
      ]
     },
     "execution_count": 18,
     "metadata": {},
     "output_type": "execute_result"
    }
   ],
   "source": [
    "10 in a"
   ]
  },
  {
   "cell_type": "code",
   "execution_count": 20,
   "id": "97a39971",
   "metadata": {},
   "outputs": [
    {
     "data": {
      "text/plain": [
       "False"
      ]
     },
     "execution_count": 20,
     "metadata": {},
     "output_type": "execute_result"
    }
   ],
   "source": [
    "[3,10,5] in a"
   ]
  },
  {
   "cell_type": "code",
   "execution_count": 29,
   "id": "3f4ce94c",
   "metadata": {},
   "outputs": [],
   "source": [
    "b = [30,10,50] in a"
   ]
  },
  {
   "cell_type": "code",
   "execution_count": 30,
   "id": "c0a92eaf",
   "metadata": {},
   "outputs": [
    {
     "data": {
      "text/plain": [
       "False"
      ]
     },
     "execution_count": 30,
     "metadata": {},
     "output_type": "execute_result"
    }
   ],
   "source": [
    "b"
   ]
  },
  {
   "cell_type": "code",
   "execution_count": null,
   "id": "4c9db410",
   "metadata": {},
   "outputs": [],
   "source": []
  }
 ],
 "metadata": {
  "kernelspec": {
   "display_name": "Python 3 (ipykernel)",
   "language": "python",
   "name": "python3"
  },
  "language_info": {
   "codemirror_mode": {
    "name": "ipython",
    "version": 3
   },
   "file_extension": ".py",
   "mimetype": "text/x-python",
   "name": "python",
   "nbconvert_exporter": "python",
   "pygments_lexer": "ipython3",
   "version": "3.9.7"
  }
 },
 "nbformat": 4,
 "nbformat_minor": 5
}
